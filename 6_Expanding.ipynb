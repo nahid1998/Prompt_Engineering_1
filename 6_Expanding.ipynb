{
 "cells": [
  {
   "cell_type": "markdown",
   "metadata": {},
   "source": [
    "# Setup"
   ]
  },
  {
   "cell_type": "code",
   "execution_count": 6,
   "metadata": {},
   "outputs": [],
   "source": [
    "import openai\n",
    "import os\n",
    "\n",
    "from dotenv import load_dotenv, find_dotenv\n",
    "_ = load_dotenv(find_dotenv())\n",
    "\n",
    "openai.api_key  = os.getenv('OPENAI_API_KEY')\n",
    "client = openai.OpenAI()\n",
    "\n",
    "def get_completion(prompt, temperature = 0, model=\"gpt-3.5-turbo\"):\n",
    "    messages = [{\"role\": \"user\", \"content\": prompt}]\n",
    "    response = client.chat.completions.create(\n",
    "        model=model,\n",
    "        messages=messages,\n",
    "        temperature=temperature, # this is the degree of randomness of the model's output\n",
    "    )\n",
    "    return response.choices[0].message.content\n"
   ]
  },
  {
   "cell_type": "markdown",
   "metadata": {},
   "source": [
    "# Expanding"
   ]
  },
  {
   "cell_type": "markdown",
   "metadata": {},
   "source": [
    "generate customer service emails that are tailored to each customer's review."
   ]
  },
  {
   "cell_type": "markdown",
   "metadata": {},
   "source": [
    "## Customize the automated reply to a customer email"
   ]
  },
  {
   "cell_type": "code",
   "execution_count": 2,
   "metadata": {},
   "outputs": [],
   "source": [
    "# given the sentiment from the lesson on \"inferring\", and the original customer message, customize the email\n",
    "sentiment = \"negative\"\n",
    "\n",
    "# review for a blender\n",
    "review = f\"\"\"\n",
    "So, they still had the 17 piece system on seasonal sale for around $49 in the month of November, about \n",
    "half off, but for some reason (call it price gouging) around the second week of December the prices all went \n",
    "up to about anywhere from between $70-$89 for the same system. And the 11 piece system went up around $10 or \n",
    "so in price also from the earlier sale price of $29. \n",
    "So it looks okay, but if you look at the base, the part where the blade locks into place doesn’t look as good \n",
    "as in previous editions from a few years ago, but I plan to be very gentle with it (example, I crush very hard items like beans, \n",
    "ice, rice, etc. \n",
    "in the blender first then pulverize them in the serving size I want in the blender then switch to the whipping \n",
    "blade for a finer flour, and use the cross cutting blade first when making smoothies, then use the flat blade if I need them finer/less pulpy). \n",
    "Special tip when making smoothies, finely cut and freeze the fruits and vegetables (if using spinach-lightly stew soften the \n",
    "spinach then freeze until ready for use-and if making sorbet, use a small to medium sized food processor) \n",
    "that you plan to use that way you can avoid adding so \n",
    "much ice if at all-when making your smoothie. \n",
    "After about a year, the motor was making a funny noise. \n",
    "I called customer service but the warranty expired already, so I had to buy another one. \n",
    "FYI: The overall quality has gone done in these types of products, so they are kind of counting on brand recognition and \n",
    "consumer loyalty to maintain sales. Got it in about two days.\n",
    "\"\"\""
   ]
  },
  {
   "cell_type": "code",
   "execution_count": 3,
   "metadata": {},
   "outputs": [
    {
     "name": "stdout",
     "output_type": "stream",
     "text": [
      "Dear Valued Customer,\n",
      "\n",
      "Thank you for taking the time to share your review with us. We appreciate your feedback and apologize for any inconvenience you may have experienced.\n",
      "\n",
      "We are sorry to hear about the price increase you noticed in December. Our prices are subject to change based on various factors, including market conditions. However, we understand your frustration and apologize for any confusion caused.\n",
      "\n",
      "Regarding the quality of the base, we appreciate your observation. We constantly strive to improve our products and your feedback will be taken into consideration for future enhancements.\n",
      "\n",
      "We apologize for the issue you encountered with the motor after a year of use. Our customer service team is always available to assist you, even if the warranty has expired. Please feel free to reach out to them for any further assistance or guidance.\n",
      "\n",
      "We value your loyalty and appreciate your support. If there is anything else we can do to assist you, please do not hesitate to contact our customer service team.\n",
      "\n",
      "Thank you once again for your review and for choosing our products.\n",
      "\n",
      "Best regards,\n",
      "\n",
      "AI customer agent\n"
     ]
    }
   ],
   "source": [
    "prompt = f\"\"\"\n",
    "You are a customer service AI assistant.\n",
    "Your task is to send an email reply to a valued customer.\n",
    "Given the customer email delimited by ```, \n",
    "Generate a reply to thank the customer for their review.\n",
    "If the sentiment is positive or neutral, thank them for their review.\n",
    "If the sentiment is negative, apologize and suggest that they can reach out to customer service.\n",
    "Make sure to use specific details from the review.\n",
    "Write in a concise and professional tone.\n",
    "Sign the email as `AI customer agent`.\n",
    "Customer review: ```{review}```\n",
    "Review sentiment: {sentiment}\n",
    "\"\"\"\n",
    "response = get_completion(prompt)\n",
    "print(response)"
   ]
  },
  {
   "cell_type": "markdown",
   "metadata": {},
   "source": [
    "## Remind the model to use details from the customer's email"
   ]
  },
  {
   "cell_type": "code",
   "execution_count": 7,
   "metadata": {},
   "outputs": [
    {
     "name": "stdout",
     "output_type": "stream",
     "text": [
      "Dear valued customer,\n",
      "\n",
      "Thank you for taking the time to leave a review about your recent purchase of our 17 piece system. We appreciate your feedback and the specific details you have provided.\n",
      "\n",
      "We apologize for any confusion regarding the pricing of the system. Our prices are subject to change based on various factors, including seasonal sales and market demand. We understand your disappointment with the increase in price during December. If you have any further concerns or questions about pricing, please feel free to reach out to our customer service team.\n",
      "\n",
      "We are sorry to hear about the issue you experienced with the base of the system. Our goal is to provide high-quality products to our customers, and we regret that you found this aspect to be lacking. We appreciate your gentleness in handling the system and your detailed usage tips.\n",
      "\n",
      "Regarding the motor noise issue, we understand your frustration. However, since the warranty had already expired, we are unable to provide a replacement. We apologize for any inconvenience this may have caused.\n",
      "\n",
      "At our company, we strive to continually improve our products and maintain customer satisfaction. Your feedback is valuable to us, and we will take it into consideration as we work towards enhancing the quality of our products.\n",
      "\n",
      "If you have any further questions or need assistance, please do not hesitate to contact our customer service team. They will be more than happy to assist you.\n",
      "\n",
      "Thank you once again for sharing your experience with us. We appreciate your loyalty and hope to have the opportunity to serve you better in the future.\n",
      "\n",
      "Best regards,\n",
      "\n",
      "AI customer agent\n"
     ]
    }
   ],
   "source": [
    "prompt = f\"\"\"\n",
    "You are a customer service AI assistant.\n",
    "Your task is to send an email reply to a valued customer.\n",
    "Given the customer email delimited by ```, Generate a reply to thank the customer for their review.\n",
    "If the sentiment is positive or neutral, thank them for their review.\n",
    "If the sentiment is negative, apologize and suggest that they can reach out to customer service.\n",
    "Make sure to use specific details from the review.\n",
    "Write in a concise and professional tone.\n",
    "Sign the email as `AI customer agent`.\n",
    "Customer review: ```{review}```\n",
    "Review sentiment: {sentiment}\n",
    "\"\"\"\n",
    "response = get_completion(prompt, temperature=0.7)\n",
    "print(response)"
   ]
  },
  {
   "cell_type": "code",
   "execution_count": null,
   "metadata": {},
   "outputs": [],
   "source": []
  }
 ],
 "metadata": {
  "kernelspec": {
   "display_name": "Python 3",
   "language": "python",
   "name": "python3"
  },
  "language_info": {
   "codemirror_mode": {
    "name": "ipython",
    "version": 3
   },
   "file_extension": ".py",
   "mimetype": "text/x-python",
   "name": "python",
   "nbconvert_exporter": "python",
   "pygments_lexer": "ipython3",
   "version": "3.12.0"
  }
 },
 "nbformat": 4,
 "nbformat_minor": 2
}
